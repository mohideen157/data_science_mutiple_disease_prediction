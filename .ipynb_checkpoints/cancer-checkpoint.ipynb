{
 "cells": [
  {
   "cell_type": "code",
   "execution_count": 1,
   "metadata": {},
   "outputs": [
    {
     "name": "stderr",
     "output_type": "stream",
     "text": [
      "Using TensorFlow backend.\n"
     ]
    },
    {
     "data": {
      "text/html": [
       "<style>.container { width:100% !important; }</style>"
      ],
      "text/plain": [
       "<IPython.core.display.HTML object>"
      ]
     },
     "metadata": {},
     "output_type": "display_data"
    }
   ],
   "source": [
    "import os\n",
    "import shutil\n",
    "import numpy as np\n",
    "import pandas as pd\n",
    "import cv2\n",
    "import imageio\n",
    "from datetime import datetime as dt\n",
    "import matplotlib.pyplot as plt\n",
    "import random\n",
    "from PIL import Image\n",
    "import seaborn as sns\n",
    "\n",
    "#from google.colab import drive\n",
    "#drive.mount('/content/drive/', force_remount=True)\n",
    "from keras.callbacks import ModelCheckpoint\n",
    "\n",
    "from IPython.core.display import display, HTML\n",
    "display(HTML(\"<style>.container { width:100% !important; }</style>\"))"
   ]
  },
  {
   "cell_type": "code",
   "execution_count": 2,
   "metadata": {},
   "outputs": [],
   "source": [
    "#Import the deep learning libraries\n",
    "from keras.preprocessing.image import ImageDataGenerator,load_img,img_to_array,array_to_img\n",
    "from keras.models import Sequential, load_model\n",
    "from keras.layers import Conv2D, MaxPooling2D\n",
    "from keras.layers import Activation, Dropout, Flatten, Dense, BatchNormalization\n",
    "from keras import backend as K\n",
    "from keras.optimizers import RMSprop\n",
    "from keras import regularizers as reg\n",
    "import numpy as np\n",
    "import matplotlib.pyplot as plt\n",
    "import os\n",
    "import imageio\n",
    "from keras.layers.normalization import BatchNormalization\n",
    "from keras import optimizers\n",
    "from keras.callbacks import History\n",
    "\n",
    "%matplotlib inline"
   ]
  },
  {
   "cell_type": "code",
   "execution_count": 4,
   "metadata": {},
   "outputs": [
    {
     "name": "stdout",
     "output_type": "stream",
     "text": [
      "Trained model loaded successfully...\n",
      "(1, 50, 50, 3)\n",
      "Probability of the histopathology image to have cancer: 37.21%\n",
      "Probability of the histopathology image to be normal: 62.79%\n",
      "Inference: The histopathology image shows strong evidence of Invasive Ductal Carcinoma.\n",
      "\n",
      "Time take to analyze the image and predict the result:  0:00:00.116589\n"
     ]
    }
   ],
   "source": [
    "from cv2 import resize, INTER_AREA\n",
    "import imageio\n",
    "import numpy as np\n",
    "from keras.models import load_model\n",
    "from datetime import datetime as dt\n",
    "from PIL import Image\n",
    "\n",
    "#A utility function to resize a given input image \n",
    "def resize_image(image):\n",
    "    resized_image = image.resize((50,50), Image.ANTIALIAS)\n",
    "    return resized_image\n",
    "\n",
    "#Utility function to process the input image\n",
    "def process_image(img_dir):\n",
    "    test_image = Image.open(img_dir)                   #Read image using the PIL library\n",
    "    test_image = resize_image(test_image)              #Resize the images to 128x128 pixels\n",
    "    test_image = np.array(test_image)                  #Convert the image to numpy array\n",
    "    test_image = test_image/255                        #Scale the pixels between 0 and 1\n",
    "    test_image = np.expand_dims(test_image, axis=0)    #Add another dimension because the model was trained on (n,128,128,3)\n",
    "    print(test_image.shape)\n",
    "    return test_image\n",
    "\n",
    "\n",
    "#Utility function to make model prediction on a single input image\n",
    "def predict_image(img_dir):\n",
    "    test_image=process_image(img_dir)\n",
    "    \n",
    "    y_proba_Class0 = model.predict_proba(test_image).flatten().tolist()[0] * 100\n",
    "    y_proba_Class1 = 100.0-y_proba_Class0\n",
    "   \n",
    "\n",
    "\n",
    "    print(\"Probability of the histopathology image to have cancer: {:.2f}%\".format(y_proba_Class1))\n",
    "    print(\"Probability of the histopathology image to be normal: {:.2f}%\".format(y_proba_Class0))\n",
    "    \n",
    "    \n",
    "    list_proba = [y_proba_Class0,y_proba_Class1]\n",
    "    statements = [\"The histopathology image shows strong evidence of Invasive Ductal Carcinoma.\",\n",
    "                 \"The cell image shows no evidence of Invasive Ductal Carcinoma.\"]\n",
    "    \n",
    "    \n",
    "    index = list_proba.index(max(list_proba))\n",
    "    result = statements[index]\n",
    "    \n",
    "    print(\"Inference: \"+result)\n",
    "\n",
    "model = load_model('breastcancer.h5')\n",
    "print(\"Trained model loaded successfully...\")\n",
    "\n",
    "img_dir=\"E:/healthbuddy data science dataset/Source-1/cancer/Cancer_Patients1.png\"\n",
    "\n",
    "st=dt.now()\n",
    "predict_image(img_dir)\n",
    "end=dt.now()-st\n",
    "\n",
    "print(\"\\nTime take to analyze the image and predict the result: \",end)\n",
    "\n"
   ]
  },
  {
   "cell_type": "code",
   "execution_count": null,
   "metadata": {},
   "outputs": [],
   "source": []
  }
 ],
 "metadata": {
  "kernelspec": {
   "display_name": "Python 3",
   "language": "python",
   "name": "python3"
  },
  "language_info": {
   "codemirror_mode": {
    "name": "ipython",
    "version": 3
   },
   "file_extension": ".py",
   "mimetype": "text/x-python",
   "name": "python",
   "nbconvert_exporter": "python",
   "pygments_lexer": "ipython3",
   "version": "3.7.6"
  }
 },
 "nbformat": 4,
 "nbformat_minor": 4
}
